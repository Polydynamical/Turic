{
 "cells": [
  {
   "cell_type": "code",
   "execution_count": 23,
   "id": "e892aa12",
   "metadata": {},
   "outputs": [],
   "source": [
    "import torch\n",
    "import torch.nn as nn\n",
    "import torch.optim as optim\n",
    "\n",
    "# Define a simple neural network class\n",
    "class SimpleNN(nn.Module):\n",
    "    def __init__(self):\n",
    "        super(SimpleNN, self).__init__()\n",
    "        self.fc = nn.Linear(1, 1)  # One input neuron and one output neuron\n",
    "\n",
    "    def forward(self, x):\n",
    "        x = self.fc(x)\n",
    "        return x\n",
    "\n",
    "# Instantiate the model\n",
    "model = SimpleNN()\n",
    "model.double()\n",
    "\n",
    "# Define the loss function (mean squared error) and optimizer (e.g., SGD)\n",
    "criterion = nn.MSELoss()\n",
    "optimizer = optim.SGD(model.parameters(), lr=0.001)"
   ]
  },
  {
   "cell_type": "code",
   "execution_count": null,
   "id": "a0ada126",
   "metadata": {},
   "outputs": [],
   "source": [
    "from sklearn.model_selection import train_test_split\n",
    "import numpy as np\n",
    "import os\n",
    "# import data into memory\n",
    "ratio = 0.9 # train/test split\n",
    "size = 1000000\n",
    "\n",
    "X = np.array([], dtype=np.float64) # big semiprime. MUST be float128.\n",
    "Y = np.array([], dtype=np.float64) # semibig prime. doing float128 for simplicity. could do float64\n",
    "for _file in os.listdir(\"data\")[:size]:\n",
    "    arr = open(f\"data/{_file}\").readlines()\n",
    "    arr = np.array([[np.float64(x.split(\"\\n\")[0])] for x in arr])\n",
    "    X = np.append(X, list(arr[-1]))\n",
    "    Y = np.append(Y, list(arr[0])) # could also do arr[1]\n",
    "X_train, X_test, Y_train, Y_test = train_test_split(X, Y, test_size=0.2, random_state=42)\n",
    "X_train = torch.tensor(X_train, dtype=torch.float64)\n",
    "Y_train = torch.tensor(Y_train, dtype=torch.float64)"
   ]
  },
  {
   "cell_type": "code",
   "execution_count": 25,
   "id": "5920e2d8",
   "metadata": {},
   "outputs": [
    {
     "name": "stdout",
     "output_type": "stream",
     "text": [
      "Epoch [100/1000], Loss: nan\n",
      "Epoch [200/1000], Loss: nan\n",
      "Epoch [300/1000], Loss: nan\n",
      "Epoch [400/1000], Loss: nan\n",
      "Epoch [500/1000], Loss: nan\n",
      "Epoch [600/1000], Loss: nan\n",
      "Epoch [700/1000], Loss: nan\n",
      "Epoch [800/1000], Loss: nan\n",
      "Epoch [900/1000], Loss: nan\n",
      "Epoch [1000/1000], Loss: nan\n"
     ]
    }
   ],
   "source": [
    "for epoch in range(1000):\n",
    "    # Forward pass\n",
    "    outputs = model(X_train.view(-1, 1))\n",
    "    \n",
    "    # Compute the loss\n",
    "    loss = criterion(outputs, Y_train)\n",
    "    \n",
    "    # Backpropagation and optimization\n",
    "    optimizer.zero_grad()\n",
    "    loss.backward()\n",
    "    optimizer.step()\n",
    "\n",
    "    if (epoch + 1) % 100 == 0:\n",
    "        print(f'Epoch [{epoch + 1}/1000], Loss: {loss.item():.4f}')"
   ]
  },
  {
   "cell_type": "code",
   "execution_count": null,
   "id": "ace8af5a",
   "metadata": {},
   "outputs": [],
   "source": []
  }
 ],
 "metadata": {
  "kernelspec": {
   "display_name": "Python 3 (ipykernel)",
   "language": "python",
   "name": "python3"
  },
  "language_info": {
   "codemirror_mode": {
    "name": "ipython",
    "version": 3
   },
   "file_extension": ".py",
   "mimetype": "text/x-python",
   "name": "python",
   "nbconvert_exporter": "python",
   "pygments_lexer": "ipython3",
   "version": "3.10.12"
  }
 },
 "nbformat": 4,
 "nbformat_minor": 5
}
